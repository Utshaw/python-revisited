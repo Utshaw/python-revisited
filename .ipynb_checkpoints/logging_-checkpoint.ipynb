{
 "cells": [
  {
   "cell_type": "code",
   "execution_count": 1,
   "metadata": {},
   "outputs": [],
   "source": [
    "import logging\n",
    "logging.basicConfig(level=logging.DEBUG, format='%(asctime)s - %(levelname)s - %(message)s')\n",
    "# To log errors in text file uncomment the line below \n",
    "# logging.basicConfig(filename='myProgramLog.txt', level=logging.DEBUG, format='%(asctime)s - %(levelname)s - %(message)s')"
   ]
  },
  {
   "cell_type": "code",
   "execution_count": 2,
   "metadata": {},
   "outputs": [
    {
     "name": "stderr",
     "output_type": "stream",
     "text": [
      "2020-07-28 09:50:38,279 - DEBUG - Start of program\n",
      "2020-07-28 09:50:38,284 - DEBUG - Start of factorial(5)\n",
      "2020-07-28 09:50:38,286 - CRITICAL - i is 1, total is 1\n",
      "2020-07-28 09:50:38,288 - CRITICAL - i is 2, total is 2\n",
      "2020-07-28 09:50:38,289 - CRITICAL - i is 3, total is 6\n",
      "2020-07-28 09:50:38,291 - CRITICAL - i is 4, total is 24\n",
      "2020-07-28 09:50:38,293 - CRITICAL - i is 5, total is 120\n",
      "2020-07-28 09:50:38,294 - DEBUG - Return value is 120\n",
      "2020-07-28 09:50:38,296 - DEBUG - End of program\n"
     ]
    },
    {
     "name": "stdout",
     "output_type": "stream",
     "text": [
      "120\n"
     ]
    }
   ],
   "source": [
    "# logging.disable(logging.CRITICAL) # this disables logging. uncomment to disable logging\n",
    "\n",
    "logging.debug('Start of program')\n",
    "\n",
    "\n",
    "def factorial(n):\n",
    "    logging.debug('Start of factorial(%s)' % (n))\n",
    "    total = 1\n",
    "    for i in range(1, n + 1):\n",
    "        total *= i\n",
    "        logging.critical('i is %s, total is %s' % (i, total))\n",
    "    logging.debug('Return value is %s' % (total))\n",
    "    return total\n",
    "\n",
    "print(factorial(5))\n",
    "\n",
    "logging.debug('End of program')"
   ]
  },
  {
   "cell_type": "markdown",
   "metadata": {},
   "source": [
    "## Log level\n",
    "1. debug (lowest level)\n",
    "2. info\n",
    "3. warning\n",
    "4. error\n",
    "5. critical (highest level)"
   ]
  },
  {
   "cell_type": "code",
   "execution_count": null,
   "metadata": {},
   "outputs": [],
   "source": []
  }
 ],
 "metadata": {
  "kernelspec": {
   "display_name": "Python 3",
   "language": "python",
   "name": "python3"
  },
  "language_info": {
   "codemirror_mode": {
    "name": "ipython",
    "version": 3
   },
   "file_extension": ".py",
   "mimetype": "text/x-python",
   "name": "python",
   "nbconvert_exporter": "python",
   "pygments_lexer": "ipython3",
   "version": "3.7.6"
  }
 },
 "nbformat": 4,
 "nbformat_minor": 4
}
