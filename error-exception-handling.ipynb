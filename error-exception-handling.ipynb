{
 "cells": [
  {
   "cell_type": "code",
   "execution_count": 11,
   "metadata": {},
   "outputs": [
    {
     "name": "stdout",
     "output_type": "stream",
     "text": [
      "inside else\n",
      "inside finally\n",
      "10.0\n",
      "You cant divide by zero\n",
      "inside finally\n",
      "None\n",
      "data type not supported\n",
      "inside finally\n",
      "None\n"
     ]
    }
   ],
   "source": [
    "def divide(a,b):\n",
    "    try:\n",
    "        result =  a/b # here goes the code that can be caught by error\n",
    "    except ZeroDivisionError: # enters if this exception occurs\n",
    "        print('You cant divide by zero')\n",
    "    except TypeError: # enters if this type of exception occurs\n",
    "        print('data type not supported')\n",
    "    else: # enters if no exception occurs\n",
    "        print('inside else')\n",
    "        return result\n",
    "    finally: # enters whether exception occurs or not\n",
    "        print('inside finally')\n",
    "\n",
    "print(divide(100,10))\n",
    "print(divide(100,0))\n",
    "print(divide(100,'0'))"
   ]
  },
  {
   "cell_type": "markdown",
   "metadata": {},
   "source": [
    "## check if loop  has exhausted all iteration\n",
    "after loop range is finished the for loop  will throw StopIteration exception\n",
    "then the else block will be executed"
   ]
  },
  {
   "cell_type": "code",
   "execution_count": 12,
   "metadata": {},
   "outputs": [
    {
     "name": "stdout",
     "output_type": "stream",
     "text": [
      "0\n",
      "1\n",
      "2\n",
      "3\n",
      "4\n",
      "5\n",
      "6\n",
      "7\n",
      "8\n",
      "9\n",
      "inside else\n"
     ]
    }
   ],
   "source": [
    "for i in range(10):\n",
    "    print(i)\n",
    "else:\n",
    "    print('inside else after full completion of the for loop')"
   ]
  },
  {
   "cell_type": "markdown",
   "metadata": {},
   "source": [
    "if the for loop doesnt complete the range of the loop then there will be no exception. then else wont be executed. \n",
    "if we want some codes to be executed only after full completion of the loop we can use else block"
   ]
  },
  {
   "cell_type": "code",
   "execution_count": 14,
   "metadata": {},
   "outputs": [
    {
     "name": "stdout",
     "output_type": "stream",
     "text": [
      "0\n",
      "1\n",
      "2\n",
      "3\n",
      "4\n",
      "5\n"
     ]
    }
   ],
   "source": [
    "for i in range(10):\n",
    "    print(i)\n",
    "    if i == 5:\n",
    "        break\n",
    "else:\n",
    "    print('inside else after full completion of the for loop')"
   ]
  },
  {
   "cell_type": "code",
   "execution_count": null,
   "metadata": {},
   "outputs": [],
   "source": []
  }
 ],
 "metadata": {
  "kernelspec": {
   "display_name": "Python 3",
   "language": "python",
   "name": "python3"
  },
  "language_info": {
   "codemirror_mode": {
    "name": "ipython",
    "version": 3
   },
   "file_extension": ".py",
   "mimetype": "text/x-python",
   "name": "python",
   "nbconvert_exporter": "python",
   "pygments_lexer": "ipython3",
   "version": "3.7.6"
  }
 },
 "nbformat": 4,
 "nbformat_minor": 2
}
