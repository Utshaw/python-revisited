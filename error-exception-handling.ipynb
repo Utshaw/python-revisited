{
 "cells": [
  {
   "cell_type": "code",
   "execution_count": 2,
   "metadata": {},
   "outputs": [
    {
     "name": "stdout",
     "output_type": "stream",
     "text": [
      "inside else\n",
      "inside finally\n",
      "10.0\n",
      "You cant divide by zero\n",
      "inside finally\n",
      "None\n",
      "data type not supported\n",
      "inside finally\n",
      "None\n"
     ]
    }
   ],
   "source": [
    "def divide(a,b):\n",
    "    try:\n",
    "        result =  a/b # here goes the code that can be caught by error\n",
    "    except ZeroDivisionError: # enters if this exception occurs\n",
    "        print('You cant divide by zero')\n",
    "    except TypeError: # enters if this type of exception occurs\n",
    "        print('data type not supported')\n",
    "    else: # enters if no exception occurs\n",
    "        print('inside else')\n",
    "        return result\n",
    "    finally: # enters whether exception occurs or not\n",
    "        print('inside finally')\n",
    "\n",
    "print(divide(100,10))\n",
    "print(divide(100,0))\n",
    "print(divide(100,'0'))"
   ]
  },
  {
   "cell_type": "markdown",
   "metadata": {},
   "source": [
    "## check if loop  has exhausted all iteration\n",
    "after loop range is finished the for loop  will throw StopIteration exception\n",
    "then the else block will be executed"
   ]
  },
  {
   "cell_type": "code",
   "execution_count": 1,
   "metadata": {},
   "outputs": [
    {
     "name": "stdout",
     "output_type": "stream",
     "text": [
      "0\n",
      "1\n",
      "2\n",
      "3\n",
      "4\n",
      "5\n",
      "6\n",
      "7\n",
      "8\n",
      "9\n",
      "inside else after full completion of the for loop\n"
     ]
    }
   ],
   "source": [
    "for i in range(10):\n",
    "    print(i)\n",
    "else:\n",
    "    print('inside else after full completion of the for loop')"
   ]
  },
  {
   "cell_type": "markdown",
   "metadata": {},
   "source": [
    "if the for loop doesnt complete the range of the loop then there will be no exception. then else wont be executed. \n",
    "if we want some codes to be executed only after full completion of the loop we can use else block"
   ]
  },
  {
   "cell_type": "code",
   "execution_count": 14,
   "metadata": {},
   "outputs": [
    {
     "name": "stdout",
     "output_type": "stream",
     "text": [
      "0\n",
      "1\n",
      "2\n",
      "3\n",
      "4\n",
      "5\n"
     ]
    }
   ],
   "source": [
    "for i in range(10):\n",
    "    print(i)\n",
    "    if i == 5:\n",
    "        break\n",
    "else:\n",
    "    print('inside else after full completion of the for loop')"
   ]
  },
  {
   "cell_type": "code",
   "execution_count": 10,
   "metadata": {},
   "outputs": [
    {
     "name": "stdout",
     "output_type": "stream",
     "text": [
      "**************************************************\n",
      "*                                                *\n",
      "*                                                *\n",
      "*                                                *\n",
      "**************************************************\n"
     ]
    }
   ],
   "source": [
    "def boxPrint(symbol, width, height):\n",
    "    if len(symbol) != 1:\n",
    "        raise Exception('\"symbol\" needs to a string length 1.')\n",
    "    if (width < 2) or (height < 2):\n",
    "        raise Exception('\"width\" and \"height\" must be greater or equal to 2')\n",
    "    print(symbol * width)\n",
    "    \n",
    "    for i in range(height -2):\n",
    "        print(symbol + (' ' * (width - 2)) + symbol)\n",
    "    \n",
    "    print(symbol * width)\n",
    "    \n",
    "boxPrint('*', 50, 5)"
   ]
  },
  {
   "cell_type": "code",
   "execution_count": 11,
   "metadata": {},
   "outputs": [
    {
     "name": "stdout",
     "output_type": "stream",
     "text": [
      "The traceback info was written error_log.txt\n"
     ]
    }
   ],
   "source": [
    "import traceback\n",
    "try:\n",
    "    # Code generating exception\n",
    "    raise Exception('This is the error message') # any code that causes the exception\n",
    "    \n",
    "except: \n",
    "    errorFile = open('error_log.txt', 'a')\n",
    "    errorFile.write(traceback.format_exc()) # writes the error to errorFile (error log file) \n",
    "    errorFile.close()\n",
    "    print('The traceback info was written error_log.txt')\n",
    "    "
   ]
  },
  {
   "cell_type": "markdown",
   "metadata": {},
   "source": [
    "# assert -> kind of exception for sanity checking\n",
    "- `assert <condition> 'This is error message'` \n",
    "- Assertions are for detecting programmer errors that are not meant to be recovered from. User errors should raise exceptions "
   ]
  },
  {
   "cell_type": "code",
   "execution_count": 1,
   "metadata": {},
   "outputs": [
    {
     "ename": "AssertionError",
     "evalue": "This is assertion Error message",
     "output_type": "error",
     "traceback": [
      "\u001b[0;31m---------------------------------------------------------------------------\u001b[0m",
      "\u001b[0;31mAssertionError\u001b[0m                            Traceback (most recent call last)",
      "\u001b[0;32m<ipython-input-1-3d5c31ca546a>\u001b[0m in \u001b[0;36m<module>\u001b[0;34m\u001b[0m\n\u001b[0;32m----> 1\u001b[0;31m \u001b[0;32massert\u001b[0m \u001b[0;32mFalse\u001b[0m\u001b[0;34m,\u001b[0m \u001b[0;34m'This is assertion Error message'\u001b[0m\u001b[0;34m\u001b[0m\u001b[0;34m\u001b[0m\u001b[0m\n\u001b[0m",
      "\u001b[0;31mAssertionError\u001b[0m: This is assertion Error message"
     ]
    }
   ],
   "source": [
    "assert False, 'This is assertion Error message'"
   ]
  },
  {
   "cell_type": "code",
   "execution_count": null,
   "metadata": {},
   "outputs": [],
   "source": []
  }
 ],
 "metadata": {
  "kernelspec": {
   "display_name": "Python 3",
   "language": "python",
   "name": "python3"
  },
  "language_info": {
   "codemirror_mode": {
    "name": "ipython",
    "version": 3
   },
   "file_extension": ".py",
   "mimetype": "text/x-python",
   "name": "python",
   "nbconvert_exporter": "python",
   "pygments_lexer": "ipython3",
   "version": "3.7.6"
  }
 },
 "nbformat": 4,
 "nbformat_minor": 2
}
