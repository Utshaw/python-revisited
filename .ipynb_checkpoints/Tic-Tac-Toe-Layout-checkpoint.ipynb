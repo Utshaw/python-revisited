{
 "cells": [
  {
   "cell_type": "code",
   "execution_count": 9,
   "metadata": {},
   "outputs": [
    {
     "name": "stdout",
     "output_type": "stream",
     "text": [
      "X| | \n",
      "-----\n",
      " |X| \n",
      "-----\n",
      "O|O|X\n"
     ]
    }
   ],
   "source": [
    "import pprint\n",
    "theBoard = {\n",
    "    'top-L' : ' ',\n",
    "    'top-M' : ' ',\n",
    "    'top-R' : ' ', \n",
    "    'mid-L' : ' ', \n",
    "    'mid-M' : 'X', \n",
    "    'mid-R' : ' ', \n",
    "    'low-L' : ' ',\n",
    "    'low-M' : ' ',\n",
    "    'low-R' : ' ',\n",
    "    \n",
    "}\n",
    "\n",
    "theBoard['mid-M'] = ' '\n",
    "def printBoard(board):\n",
    "    print(board['top-L'] + '|' + board['top-M'] + '|' + board['top-R'] )\n",
    "    print('-----')\n",
    "    print(board['mid-L'] + '|' + board['mid-M'] + '|' + board['mid-R'] )\n",
    "    print('-----')\n",
    "    print(board['low-L'] + '|' + board['low-M'] + '|' + board['low-R'] )\n",
    "\n",
    "theBoard['top-L'] = 'X'\n",
    "theBoard['low-R'] = 'X'    \n",
    "theBoard['mid-M'] = 'X'\n",
    "theBoard['low-L'] = 'O'\n",
    "theBoard['low-M'] = 'O'\n",
    "\n",
    "printBoard(theBoard)"
   ]
  },
  {
   "cell_type": "code",
   "execution_count": null,
   "metadata": {},
   "outputs": [],
   "source": []
  }
 ],
 "metadata": {
  "kernelspec": {
   "display_name": "Python 3",
   "language": "python",
   "name": "python3"
  },
  "language_info": {
   "codemirror_mode": {
    "name": "ipython",
    "version": 3
   },
   "file_extension": ".py",
   "mimetype": "text/x-python",
   "name": "python",
   "nbconvert_exporter": "python",
   "pygments_lexer": "ipython3",
   "version": "3.7.6"
  }
 },
 "nbformat": 4,
 "nbformat_minor": 4
}
