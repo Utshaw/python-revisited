{
 "cells": [
  {
   "cell_type": "code",
   "execution_count": 1,
   "metadata": {},
   "outputs": [
    {
     "name": "stdout",
     "output_type": "stream",
     "text": [
      "['a', 'b', 'c', 'd']\n"
     ]
    }
   ],
   "source": [
    "s = 'a b c d'\n",
    "a = s.split() # default delimeter is whitespace\n",
    "print(a)\n",
    "\n"
   ]
  },
  {
   "cell_type": "markdown",
   "metadata": {},
   "source": [
    "# split can remove one or more whitespace inside a sentence"
   ]
  },
  {
   "cell_type": "code",
   "execution_count": 6,
   "metadata": {},
   "outputs": [
    {
     "name": "stdout",
     "output_type": "stream",
     "text": [
      "['this', 'is', 'some', 'tree']\n",
      "['this', 'is', '', '', '', 'some', '', '', '', 'tree']\n"
     ]
    }
   ],
   "source": [
    "sentence = 'this is    some    tree'\n",
    "new_sent_list = sentence.split() # not specifying delimeter removes all whitespaces\n",
    "print(new_sent_list)\n",
    "\n",
    "\n",
    "\n",
    "\n",
    "sentence = 'this is    some    tree'\n",
    "new_sent_list = sentence.split(' ') # use single whitespace as  delimeter \n",
    "print(new_sent_list)"
   ]
  },
  {
   "cell_type": "markdown",
   "metadata": {},
   "source": [
    "# join two or more words "
   ]
  },
  {
   "cell_type": "code",
   "execution_count": 9,
   "metadata": {},
   "outputs": [
    {
     "name": "stdout",
     "output_type": "stream",
     "text": [
      "['this', 'is', 'some', 'tree']\n",
      "this is some tree\n",
      "thisissometree\n"
     ]
    }
   ],
   "source": [
    "sentence = 'this is    some    tree'\n",
    "sentence_list = sentence.split()\n",
    "print(sentence_list)\n",
    "new_sentence = ' '.join(sentence_list)\n",
    "print(new_sentence)\n",
    "new_sentence = ''.join(sentence_list)\n",
    "print(new_sentence)\n"
   ]
  },
  {
   "cell_type": "markdown",
   "metadata": {},
   "source": [
    "# right / left justification with print"
   ]
  },
  {
   "cell_type": "code",
   "execution_count": 16,
   "metadata": {},
   "outputs": [
    {
     "name": "stdout",
     "output_type": "stream",
     "text": [
      " 0\n",
      " 1\n",
      " 2\n",
      " 3\n",
      " 4\n",
      " 5\n",
      " 6\n",
      " 7\n",
      " 8\n",
      " 9\n",
      "10\n",
      "11\n",
      "12\n",
      "13\n",
      "14\n",
      "       100\n",
      "100       \n",
      "   100    \n"
     ]
    }
   ],
   "source": [
    "for i in range(15):\n",
    "    print(str(i).rjust(2))\n",
    "\n",
    "s = '100'\n",
    "print(s.rjust(10))\n",
    "print(s.ljust(10))\n",
    "print(s.center(10))"
   ]
  },
  {
   "cell_type": "markdown",
   "metadata": {},
   "source": [
    "## zfill method"
   ]
  },
  {
   "cell_type": "code",
   "execution_count": 18,
   "metadata": {},
   "outputs": [
    {
     "data": {
      "text/plain": [
       "'00012'"
      ]
     },
     "execution_count": 18,
     "metadata": {},
     "output_type": "execute_result"
    }
   ],
   "source": [
    "str(12).zfill(5) # fills empty spaces in the left of 12 with zeros"
   ]
  },
  {
   "cell_type": "code",
   "execution_count": 19,
   "metadata": {},
   "outputs": [
    {
     "data": {
      "text/plain": [
       "'-0012'"
      ]
     },
     "execution_count": 19,
     "metadata": {},
     "output_type": "execute_result"
    }
   ],
   "source": [
    "str(-12).zfill(5) # fills empty spaces in the left of 12 and right of minus sign with zeros"
   ]
  },
  {
   "cell_type": "code",
   "execution_count": null,
   "metadata": {},
   "outputs": [],
   "source": []
  }
 ],
 "metadata": {
  "kernelspec": {
   "display_name": "Python 3",
   "language": "python",
   "name": "python3"
  },
  "language_info": {
   "codemirror_mode": {
    "name": "ipython",
    "version": 3
   },
   "file_extension": ".py",
   "mimetype": "text/x-python",
   "name": "python",
   "nbconvert_exporter": "python",
   "pygments_lexer": "ipython3",
   "version": "3.7.3"
  }
 },
 "nbformat": 4,
 "nbformat_minor": 2
}
