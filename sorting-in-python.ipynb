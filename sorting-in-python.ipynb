{
 "cells": [
  {
   "cell_type": "markdown",
   "metadata": {},
   "source": [
    "# sort list"
   ]
  },
  {
   "cell_type": "code",
   "execution_count": 8,
   "metadata": {},
   "outputs": [
    {
     "name": "stdout",
     "output_type": "stream",
     "text": [
      "Sorted list:\t\t\t\t\t [1, 2, 3, 4, 5, 6, 7, 8, 9]\n",
      "Original list:\t\t\t\t\t [9, 1, 8, 2, 7, 3, 6, 4, 5]\n",
      "Original list(after sort method called):\t [1, 2, 3, 4, 5, 6, 7, 8, 9]\n",
      "Original list(after sort method called):\t [9, 8, 7, 6, 5, 4, 3, 2, 1]\n"
     ]
    }
   ],
   "source": [
    "li = [9, 1, 8, 2, 7, 3, 6, 4, 5]\n",
    "s_li = sorted(li) # return a new sorted list \n",
    "\n",
    "print('Sorted list:\\t\\t\\t\\t\\t', s_li)\n",
    "print('Original list:\\t\\t\\t\\t\\t', li)\n",
    "li.sort() # sorts the list in place returns None\n",
    "\n",
    "print('Original list(after sort method called):\\t', li)\n",
    "\n",
    "li.sort(reverse=True) # reverse sort\n",
    "print('Original list(after sort method called):\\t', li)"
   ]
  },
  {
   "cell_type": "markdown",
   "metadata": {},
   "source": [
    "# sort tuple"
   ]
  },
  {
   "cell_type": "code",
   "execution_count": 9,
   "metadata": {},
   "outputs": [
    {
     "name": "stdout",
     "output_type": "stream",
     "text": [
      "[1, 2, 3, 4, 5, 6, 7, 8, 9]\n"
     ]
    }
   ],
   "source": [
    "# sort method isn't available for all classes. use sorted function for those \n",
    "tup = (9, 1, 8, 2, 7, 3, 6, 4, 5)\n",
    "print(sorted(tup)) "
   ]
  },
  {
   "cell_type": "markdown",
   "metadata": {},
   "source": [
    "# sort dictionary"
   ]
  },
  {
   "cell_type": "code",
   "execution_count": 10,
   "metadata": {},
   "outputs": [
    {
     "name": "stdout",
     "output_type": "stream",
     "text": [
      "['name', 'roll']\n"
     ]
    }
   ],
   "source": [
    "di = {'name': 'Utshaw', 'roll': \"1505105\"}\n",
    "print(sorted(di)) # sorted list of key in the dictionary"
   ]
  },
  {
   "cell_type": "markdown",
   "metadata": {},
   "source": [
    "# different types of sort"
   ]
  },
  {
   "cell_type": "code",
   "execution_count": 11,
   "metadata": {},
   "outputs": [
    {
     "name": "stdout",
     "output_type": "stream",
     "text": [
      "[1, 2, 3, -4, -5, -6]\n"
     ]
    }
   ],
   "source": [
    "li = [-6, -5, -4, 1, 2, 3]\n",
    "s_li = sorted(li, key=abs) # each element will be treated as absolute value ; abs = absolute value function\n",
    "print(s_li)"
   ]
  },
  {
   "cell_type": "code",
   "execution_count": 17,
   "metadata": {},
   "outputs": [
    {
     "name": "stdout",
     "output_type": "stream",
     "text": [
      "[(Farhan,43,$90000), (Tanvir,29,$80000), (Utshaw,37,$70000)]\n"
     ]
    }
   ],
   "source": [
    "class Employee():\n",
    "    def __init__(self, name, age , salary):\n",
    "        self.name = name\n",
    "        self.age = age\n",
    "        self.salary = salary\n",
    "    def __repr__(self):\n",
    "        return '({},{},${})'.format(self.name, self.age, self.salary)\n",
    "\n",
    "e1 = Employee('Utshaw', 37, 70000)\n",
    "e2 = Employee('Tanvir', 29, 80000)\n",
    "e3 = Employee('Farhan', 43, 90000)\n",
    "\n",
    "employees = [e1, e2, e3]\n",
    "\n",
    "def e_sort(emp):\n",
    "#     return emp.name # sort based on employee name\n",
    "#     return emp.age # sort based on employee age\n",
    "    return emp.salary # sort based on employee salary\n",
    "\n",
    "s_employees = sorted(employees, key=e_sort, reverse=True) # sort in descending order\n",
    "\n",
    "print(s_employees)\n",
    "        "
   ]
  },
  {
   "cell_type": "code",
   "execution_count": null,
   "metadata": {},
   "outputs": [],
   "source": []
  }
 ],
 "metadata": {
  "kernelspec": {
   "display_name": "Python 3",
   "language": "python",
   "name": "python3"
  },
  "language_info": {
   "codemirror_mode": {
    "name": "ipython",
    "version": 3
   },
   "file_extension": ".py",
   "mimetype": "text/x-python",
   "name": "python",
   "nbconvert_exporter": "python",
   "pygments_lexer": "ipython3",
   "version": "3.7.6"
  }
 },
 "nbformat": 4,
 "nbformat_minor": 4
}
