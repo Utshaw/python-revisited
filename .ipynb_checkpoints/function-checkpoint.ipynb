{
 "cells": [
  {
   "cell_type": "code",
   "execution_count": 5,
   "metadata": {},
   "outputs": [
    {
     "name": "stdout",
     "output_type": "stream",
     "text": [
      "157\n"
     ]
    }
   ],
   "source": [
    "def add(n1, n2): # pass by value\n",
    "    return n1 + n2\n",
    "\n",
    "print(add(101,56))"
   ]
  },
  {
   "cell_type": "markdown",
   "metadata": {},
   "source": [
    "# pass by reference"
   ]
  },
  {
   "cell_type": "code",
   "execution_count": 6,
   "metadata": {},
   "outputs": [
    {
     "name": "stdout",
     "output_type": "stream",
     "text": [
      "[1, 2, 3, 401]\n"
     ]
    }
   ],
   "source": [
    "def fnc(li):\n",
    "    li.append(401)\n",
    "\n",
    "\n",
    "l = [1,2,3]\n",
    "fnc(l)\n",
    "print(l)"
   ]
  },
  {
   "cell_type": "markdown",
   "metadata": {},
   "source": [
    "# default parameter for function"
   ]
  },
  {
   "cell_type": "code",
   "execution_count": 13,
   "metadata": {},
   "outputs": [
    {
     "name": "stdout",
     "output_type": "stream",
     "text": [
      "10 120 0\n",
      "401 502 330\n",
      "10 []\n",
      "20 [101, 400]\n"
     ]
    }
   ],
   "source": [
    "def fnc(x,y,z=0):\n",
    "    print(x,y,z)\n",
    "    \n",
    "fnc(10,120) # z gets default value 0\n",
    "fnc(401,502,330) # z gets passed value 330\n",
    "\n",
    "\n",
    "def fnc2(a,b=None):\n",
    "    if b is None:\n",
    "        b = []\n",
    "    print(a,b)\n",
    "    \n",
    "\n",
    "fnc2(10) # b is None\n",
    "fnc2(20,[101,400]) # b gets list so not None\n",
    "\n",
    "\n"
   ]
  },
  {
   "cell_type": "markdown",
   "metadata": {},
   "source": [
    "# return multiple value (actually a single tuple)"
   ]
  },
  {
   "cell_type": "code",
   "execution_count": 17,
   "metadata": {},
   "outputs": [
    {
     "name": "stdout",
     "output_type": "stream",
     "text": [
      "987 566 3245\n",
      "<class 'tuple'>\n"
     ]
    }
   ],
   "source": [
    "def fnc3(a,b,c):\n",
    "    return a,b,c\n",
    "\n",
    "x, y, z = fnc3(987,566,3245) \n",
    "\n",
    "print(x,y,z)\n",
    "\n",
    "# actually fnc3 returns tuple\n",
    "# the values get unpacked into variables\n",
    "print(type(fnc3(1,2,3))) # proof of returning tuple\n",
    "\n"
   ]
  },
  {
   "cell_type": "code",
   "execution_count": null,
   "metadata": {},
   "outputs": [],
   "source": []
  }
 ],
 "metadata": {
  "kernelspec": {
   "display_name": "Python 3",
   "language": "python",
   "name": "python3"
  },
  "language_info": {
   "codemirror_mode": {
    "name": "ipython",
    "version": 3
   },
   "file_extension": ".py",
   "mimetype": "text/x-python",
   "name": "python",
   "nbconvert_exporter": "python",
   "pygments_lexer": "ipython3",
   "version": "3.7.3"
  }
 },
 "nbformat": 4,
 "nbformat_minor": 2
}
