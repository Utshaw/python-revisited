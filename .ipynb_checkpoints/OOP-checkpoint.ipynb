{
 "cells": [
  {
   "cell_type": "markdown",
   "metadata": {},
   "source": [
    "# doesn't need to write self for instance parameter 'self' can be written as anything (i.e 's', 'a' )"
   ]
  },
  {
   "cell_type": "code",
   "execution_count": 5,
   "metadata": {},
   "outputs": [
    {
     "name": "stdout",
     "output_type": "stream",
     "text": [
      "this is some\n"
     ]
    }
   ],
   "source": [
    "class Square:\n",
    "    side = 0\n",
    "    def area(self):\n",
    "        return self.side**2\n",
    "\n",
    "    \n",
    "sqr = Square()\n",
    "sqr.side = 10.12\n",
    "print(sqr.area())\n",
    "    "
   ]
  },
  {
   "cell_type": "code",
   "execution_count": 8,
   "metadata": {},
   "outputs": [
    {
     "name": "stdout",
     "output_type": "stream",
     "text": [
      "this is some text inside the class definition\n"
     ]
    }
   ],
   "source": [
    "class Tester:\n",
    "    # whenever this class is interpreted by python interpreter then the line below is executed \n",
    "    # even when no object is created out of the class\n",
    "    print('this is some text inside the class definition')"
   ]
  },
  {
   "cell_type": "markdown",
   "metadata": {},
   "source": [
    "## constructor \\_\\_init\\_\\_"
   ]
  },
  {
   "cell_type": "code",
   "execution_count": 14,
   "metadata": {},
   "outputs": [
    {
     "name": "stdout",
     "output_type": "stream",
     "text": [
      "16\n",
      "16\n",
      "4\n"
     ]
    }
   ],
   "source": [
    "class Square:\n",
    "    def __init__(self, side):\n",
    "        self.side = side\n",
    "    \n",
    "    def area(self):\n",
    "        return self.side**2\n",
    "    \n",
    "sqr1 = Square(4)\n",
    "print(sqr1.area())\n",
    "print(Square.area(sqr1))\n",
    "print(sqr1.side) \n",
    " "
   ]
  },
  {
   "cell_type": "markdown",
   "metadata": {},
   "source": [
    "# Inheritance"
   ]
  },
  {
   "cell_type": "code",
   "execution_count": 16,
   "metadata": {},
   "outputs": [
    {
     "name": "stdout",
     "output_type": "stream",
     "text": [
      "200\n",
      "100\n"
     ]
    }
   ],
   "source": [
    "class Rectangle:\n",
    "    def __init__(self, x, y):\n",
    "        self.x=x\n",
    "        self.y=y\n",
    "    def area(self):\n",
    "        return self.x*self.y\n",
    "\n",
    "class Square(Rectangle):\n",
    "    def __init__(self, x):\n",
    "        super(Square, self).__init__(x,x)\n",
    "        \n",
    "rect = Rectangle(10,20)\n",
    "sqr = Square(10)\n",
    "print(rect.area())\n",
    "print(sqr.area())\n",
    "\n",
    "\n"
   ]
  },
  {
   "cell_type": "markdown",
   "metadata": {},
   "source": [
    "# python doesn't have method overloading"
   ]
  },
  {
   "cell_type": "markdown",
   "metadata": {},
   "source": [
    "# method overriding"
   ]
  },
  {
   "cell_type": "code",
   "execution_count": 18,
   "metadata": {},
   "outputs": [
    {
     "name": "stdout",
     "output_type": "stream",
     "text": [
      "The vehicle has started\n",
      "The car has started\n"
     ]
    }
   ],
   "source": [
    "class Vehicle:\n",
    "    def __init__(self, color):\n",
    "        self.color= color\n",
    "    \n",
    "    def start(self):\n",
    "        print('The vehicle has started')\n",
    "    \n",
    "class Car(Vehicle):\n",
    "    \n",
    "    def start(self):\n",
    "        print('The car has started')\n",
    "        \n",
    "v = Vehicle('Red')\n",
    "c = Car('Green')\n",
    "v.start()\n",
    "c.start()"
   ]
  },
  {
   "cell_type": "code",
   "execution_count": null,
   "metadata": {},
   "outputs": [],
   "source": []
  }
 ],
 "metadata": {
  "kernelspec": {
   "display_name": "Python 3",
   "language": "python",
   "name": "python3"
  },
  "language_info": {
   "codemirror_mode": {
    "name": "ipython",
    "version": 3
   },
   "file_extension": ".py",
   "mimetype": "text/x-python",
   "name": "python",
   "nbconvert_exporter": "python",
   "pygments_lexer": "ipython3",
   "version": "3.7.3"
  }
 },
 "nbformat": 4,
 "nbformat_minor": 2
}
