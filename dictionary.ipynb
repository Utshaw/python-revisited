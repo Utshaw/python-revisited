{
 "cells": [
  {
   "cell_type": "markdown",
   "metadata": {},
   "source": [
    "# dictionary key must be immutable"
   ]
  },
  {
   "cell_type": "code",
   "execution_count": 8,
   "metadata": {},
   "outputs": [
    {
     "name": "stdout",
     "output_type": "stream",
     "text": [
      "{'Dhaka': 10, 'Khulna': 20, 'Jessore': 30, 'Comilla': 40}\n"
     ]
    }
   ],
   "source": [
    "div = {\n",
    "    'Dhaka': 10,\n",
    "    'Khulna': 20,\n",
    "    'Jessore': 30,\n",
    "    'Comilla': 40\n",
    "    \n",
    "}\n",
    "print(div)"
   ]
  },
  {
   "cell_type": "markdown",
   "metadata": {},
   "source": [
    "# change dictionary value for a key"
   ]
  },
  {
   "cell_type": "code",
   "execution_count": 9,
   "metadata": {},
   "outputs": [
    {
     "name": "stdout",
     "output_type": "stream",
     "text": [
      "{'Dhaka': 50, 'Khulna': 20, 'Jessore': 30, 'Comilla': 40}\n"
     ]
    }
   ],
   "source": [
    "div['Dhaka'] = 50\n",
    "print(div)"
   ]
  },
  {
   "cell_type": "markdown",
   "metadata": {},
   "source": [
    "# delete entry from dictionary"
   ]
  },
  {
   "cell_type": "code",
   "execution_count": 10,
   "metadata": {
    "scrolled": true
   },
   "outputs": [
    {
     "name": "stdout",
     "output_type": "stream",
     "text": [
      "{'Dhaka': 50, 'Jessore': 30, 'Comilla': 40}\n"
     ]
    }
   ],
   "source": [
    "del div['Khulna']\n",
    "print(div)"
   ]
  },
  {
   "cell_type": "markdown",
   "metadata": {},
   "source": [
    "# add entry to dictionary"
   ]
  },
  {
   "cell_type": "code",
   "execution_count": 12,
   "metadata": {},
   "outputs": [
    {
     "name": "stdout",
     "output_type": "stream",
     "text": [
      "{'Dhaka': 50, 'Jessore': 30, 'Comilla': 40, 'Mymensingh': 12}\n"
     ]
    }
   ],
   "source": [
    "div['Mymensingh'] = 12\n",
    "print(div)"
   ]
  },
  {
   "cell_type": "markdown",
   "metadata": {},
   "source": [
    "# loop for dictionary"
   ]
  },
  {
   "cell_type": "code",
   "execution_count": 15,
   "metadata": {},
   "outputs": [
    {
     "name": "stdout",
     "output_type": "stream",
     "text": [
      "Dhaka 50\n",
      "Jessore 30\n",
      "Comilla 40\n",
      "Mymensingh 12\n"
     ]
    }
   ],
   "source": [
    "for key in div:\n",
    "    print(key, div[key])"
   ]
  },
  {
   "cell_type": "code",
   "execution_count": 16,
   "metadata": {},
   "outputs": [
    {
     "name": "stdout",
     "output_type": "stream",
     "text": [
      "Dhaka 50\n",
      "Jessore 30\n",
      "Comilla 40\n",
      "Mymensingh 12\n"
     ]
    }
   ],
   "source": [
    "for key in div.keys(): # div.keys() returns list of keys in the dictionary\n",
    "    print(key, div[key])\n",
    "    "
   ]
  },
  {
   "cell_type": "code",
   "execution_count": 21,
   "metadata": {},
   "outputs": [
    {
     "name": "stdout",
     "output_type": "stream",
     "text": [
      "Dhaka 50\n",
      "Jessore 30\n",
      "Comilla 40\n",
      "Mymensingh 12\n"
     ]
    }
   ],
   "source": [
    "for key, value in div.items():\n",
    "    print(key ,value)"
   ]
  },
  {
   "cell_type": "code",
   "execution_count": 23,
   "metadata": {},
   "outputs": [
    {
     "name": "stdout",
     "output_type": "stream",
     "text": [
      "dict_items([('Dhaka', 50), ('Jessore', 30), ('Comilla', 40), ('Mymensingh', 12)])\n",
      "<class 'dict_items'>\n"
     ]
    }
   ],
   "source": [
    "print(div.items())\n",
    "print(type(div.items()))"
   ]
  },
  {
   "cell_type": "code",
   "execution_count": null,
   "metadata": {},
   "outputs": [],
   "source": []
  }
 ],
 "metadata": {
  "kernelspec": {
   "display_name": "Python 3",
   "language": "python",
   "name": "python3"
  },
  "language_info": {
   "codemirror_mode": {
    "name": "ipython",
    "version": 3
   },
   "file_extension": ".py",
   "mimetype": "text/x-python",
   "name": "python",
   "nbconvert_exporter": "python",
   "pygments_lexer": "ipython3",
   "version": "3.7.6"
  }
 },
 "nbformat": 4,
 "nbformat_minor": 2
}
