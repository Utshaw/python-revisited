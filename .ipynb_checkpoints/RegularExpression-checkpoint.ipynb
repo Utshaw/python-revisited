{
 "cells": [
  {
   "cell_type": "code",
   "execution_count": 1,
   "metadata": {},
   "outputs": [],
   "source": [
    "import re"
   ]
  },
  {
   "cell_type": "code",
   "execution_count": 11,
   "metadata": {},
   "outputs": [
    {
     "name": "stdout",
     "output_type": "stream",
     "text": [
      "['01811563457', '01718719735']\n"
     ]
    }
   ],
   "source": [
    "message = \"Call me 01811563457 tomorrow, or at 0171871973546\"\n",
    "\n",
    "phoneNumRegex = re.compile(r'\\d\\d\\d\\d\\d\\d\\d\\d\\d\\d\\d')\n",
    "matchObject = phoneNumRegex.findall(message)\n",
    "print(matchObject)"
   ]
  },
  {
   "cell_type": "code",
   "execution_count": 15,
   "metadata": {},
   "outputs": [
    {
     "name": "stdout",
     "output_type": "stream",
     "text": [
      "415-555-4242\n",
      "415\n",
      "555-4242\n"
     ]
    }
   ],
   "source": [
    "canadianPhoneNum = \"My number is 415-555-4242\"\n",
    "phoneNumRegex = re.compile(r'(\\d\\d\\d)-(\\d\\d\\d-\\d\\d\\d\\d)') # group things you are interested in grabbing\n",
    "mo = phoneNumRegex.search(canadianPhoneNum)\n",
    "print(mo.group()) # 415-555-4242\n",
    "print(mo.group(1)) # 415\n",
    "print(mo.group(2)) # 555-4242"
   ]
  },
  {
   "cell_type": "code",
   "execution_count": null,
   "metadata": {},
   "outputs": [],
   "source": []
  }
 ],
 "metadata": {
  "kernelspec": {
   "display_name": "Python 3",
   "language": "python",
   "name": "python3"
  },
  "language_info": {
   "codemirror_mode": {
    "name": "ipython",
    "version": 3
   },
   "file_extension": ".py",
   "mimetype": "text/x-python",
   "name": "python",
   "nbconvert_exporter": "python",
   "pygments_lexer": "ipython3",
   "version": "3.7.6"
  }
 },
 "nbformat": 4,
 "nbformat_minor": 4
}
