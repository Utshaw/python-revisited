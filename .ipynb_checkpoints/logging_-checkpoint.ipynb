{
 "cells": [
  {
   "cell_type": "code",
   "execution_count": 1,
   "metadata": {},
   "outputs": [],
   "source": [
    "import logging\n",
    "logging.basicConfig(level=logging.DEBUG, format='%(asctime)s - %(levelname)s - %(message)s')"
   ]
  },
  {
   "cell_type": "code",
   "execution_count": 6,
   "metadata": {},
   "outputs": [
    {
     "name": "stderr",
     "output_type": "stream",
     "text": [
      "2020-07-28 09:37:03,075 - DEBUG - Start of program\n",
      "2020-07-28 09:37:03,079 - DEBUG - Start of factorial(5)\n",
      "2020-07-28 09:37:03,081 - DEBUG - i is 0, total is 1\n",
      "2020-07-28 09:37:03,084 - DEBUG - i is 1, total is 0\n",
      "2020-07-28 09:37:03,085 - DEBUG - i is 2, total is 0\n",
      "2020-07-28 09:37:03,086 - DEBUG - i is 3, total is 0\n",
      "2020-07-28 09:37:03,090 - DEBUG - i is 4, total is 0\n",
      "2020-07-28 09:37:03,091 - DEBUG - i is 5, total is 0\n",
      "2020-07-28 09:37:03,092 - DEBUG - Return value is 0\n",
      "2020-07-28 09:37:03,093 - DEBUG - End of program\n"
     ]
    },
    {
     "name": "stdout",
     "output_type": "stream",
     "text": [
      "0\n"
     ]
    }
   ],
   "source": [
    "logging.debug('Start of program')\n",
    "\n",
    "def factorial(n):\n",
    "    logging.debug('Start of factorial(%s)' % (n))\n",
    "    total = 1\n",
    "    for i in range(n + 1):\n",
    "        logging.debug('i is %s, total is %s' % (i, total))\n",
    "        total *= i\n",
    "    logging.debug('Return value is %s' % (total))\n",
    "    return total\n",
    "\n",
    "print(factorial(5))\n",
    "\n",
    "logging.debug('End of program')"
   ]
  },
  {
   "cell_type": "code",
   "execution_count": null,
   "metadata": {},
   "outputs": [],
   "source": []
  }
 ],
 "metadata": {
  "kernelspec": {
   "display_name": "Python 3",
   "language": "python",
   "name": "python3"
  },
  "language_info": {
   "codemirror_mode": {
    "name": "ipython",
    "version": 3
   },
   "file_extension": ".py",
   "mimetype": "text/x-python",
   "name": "python",
   "nbconvert_exporter": "python",
   "pygments_lexer": "ipython3",
   "version": "3.7.6"
  }
 },
 "nbformat": 4,
 "nbformat_minor": 4
}
