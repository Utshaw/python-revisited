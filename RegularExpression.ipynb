{
 "cells": [
  {
   "cell_type": "code",
   "execution_count": 1,
   "metadata": {},
   "outputs": [],
   "source": [
    "import re"
   ]
  },
  {
   "cell_type": "markdown",
   "metadata": {},
   "source": [
    "# findall occurrences"
   ]
  },
  {
   "cell_type": "code",
   "execution_count": 11,
   "metadata": {},
   "outputs": [
    {
     "name": "stdout",
     "output_type": "stream",
     "text": [
      "['01811563457', '01718719735']\n"
     ]
    }
   ],
   "source": [
    "message = \"Call me 01811563457 tomorrow, or at 0171871973546\"\n",
    "\n",
    "phoneNumRegex = re.compile(r'\\d\\d\\d\\d\\d\\d\\d\\d\\d\\d\\d')\n",
    "matchObject = phoneNumRegex.findall(message)\n",
    "print(matchObject)"
   ]
  },
  {
   "cell_type": "markdown",
   "metadata": {},
   "source": [
    "# group interested thing to grab"
   ]
  },
  {
   "cell_type": "code",
   "execution_count": 18,
   "metadata": {},
   "outputs": [
    {
     "name": "stdout",
     "output_type": "stream",
     "text": [
      "415-555-4242\n",
      "415\n",
      "555-4242\n"
     ]
    }
   ],
   "source": [
    "canadianPhoneNum = \"My number is 415-555-4242\"\n",
    "phoneNumRegex = re.compile(r'(\\d\\d\\d)-(\\d\\d\\d-\\d\\d\\d\\d)') # group things you are interested in grabbing\n",
    "mo = phoneNumRegex.search(canadianPhoneNum)\n",
    "if mo != None:\n",
    "    print(mo.group()) # 415-555-4242\n",
    "    print(mo.group(1)) # 415\n",
    "    print(mo.group(2)) # 555-4242"
   ]
  },
  {
   "cell_type": "markdown",
   "metadata": {},
   "source": [
    "# escape special characters using backslash"
   ]
  },
  {
   "cell_type": "code",
   "execution_count": 24,
   "metadata": {},
   "outputs": [
    {
     "name": "stdout",
     "output_type": "stream",
     "text": [
      "(415) 555-4242\n"
     ]
    }
   ],
   "source": [
    "phoneNumRegex = re.compile(r'\\(\\d\\d\\d\\) \\d\\d\\d-\\d\\d\\d\\d') # escape ( with \\(\n",
    "mo = phoneNumRegex.search('My number is (415) 555-4242')\n",
    "if mo != None:\n",
    "    print(mo.group())"
   ]
  },
  {
   "cell_type": "markdown",
   "metadata": {},
   "source": [
    "# match one of many candidates"
   ]
  },
  {
   "cell_type": "code",
   "execution_count": 27,
   "metadata": {},
   "outputs": [
    {
     "name": "stdout",
     "output_type": "stream",
     "text": [
      "Batmobile found, matched: mobile\n"
     ]
    }
   ],
   "source": [
    "batRegex = re.compile(r'Bat(man|mobile|copter|bat)')\n",
    "mo = batRegex.search(\"Batmobile lost a wheel\") # returns None if can't find \n",
    "if mo != None:\n",
    "    print(mo.group() + \" found, matched: \" + mo.group(1))"
   ]
  },
  {
   "cell_type": "markdown",
   "metadata": {},
   "source": [
    "# Repetition in Regex"
   ]
  },
  {
   "cell_type": "markdown",
   "metadata": {},
   "source": [
    "## ? -> optional (1 or 0 times appeared)"
   ]
  },
  {
   "cell_type": "code",
   "execution_count": 32,
   "metadata": {},
   "outputs": [
    {
     "name": "stdout",
     "output_type": "stream",
     "text": [
      "Batman\n"
     ]
    }
   ],
   "source": [
    "batRegex = re.compile(r'Bat(wo)?man')\n",
    "mo = batRegex.search(\"The adventure of Batman\")\n",
    "if mo is not None:\n",
    "    print(mo.group())\n",
    "else:\n",
    "    print('Pattern not matched')"
   ]
  },
  {
   "cell_type": "code",
   "execution_count": 44,
   "metadata": {},
   "outputs": [
    {
     "name": "stdout",
     "output_type": "stream",
     "text": [
      "<re.Match object; span=(19, 27), match='555-1234'>\n"
     ]
    }
   ],
   "source": [
    "phoneRegex = re.compile(r'(\\d\\d\\d-)?\\d\\d\\d-\\d\\d\\d\\d')\n",
    "matchObject = phoneRegex.search(\"My phone number is 555-1234 or 415-555-1234\")\n",
    "if matchObject is not None:\n",
    "    print(matchObject)\n",
    "else:\n",
    "    print('No phone number found')"
   ]
  },
  {
   "cell_type": "markdown",
   "metadata": {},
   "source": [
    "# * -> any time appeared"
   ]
  },
  {
   "cell_type": "code",
   "execution_count": 45,
   "metadata": {},
   "outputs": [
    {
     "data": {
      "text/plain": [
       "<re.Match object; span=(17, 29), match='Batwowowoman'>"
      ]
     },
     "execution_count": 45,
     "metadata": {},
     "output_type": "execute_result"
    }
   ],
   "source": [
    "batRegex = re.compile(r'Bat(wo)*man')\n",
    "batRegex.search('The adventure of Batwowowoman')\n"
   ]
  },
  {
   "cell_type": "markdown",
   "metadata": {},
   "source": [
    "# + at least once appeared"
   ]
  },
  {
   "cell_type": "code",
   "execution_count": 47,
   "metadata": {},
   "outputs": [
    {
     "name": "stdout",
     "output_type": "stream",
     "text": [
      "<re.Match object; span=(17, 29), match='Batwowowoman'>\n",
      "None\n"
     ]
    }
   ],
   "source": [
    "batRegex = re.compile(r'Bat(wo)+man')\n",
    "print(batRegex.search('The adventure of Batwowowoman'))\n",
    "print(batRegex.search('The adventure of Batman'))\n"
   ]
  },
  {
   "cell_type": "markdown",
   "metadata": {},
   "source": [
    "# Escaping ? * +"
   ]
  },
  {
   "cell_type": "code",
   "execution_count": 50,
   "metadata": {},
   "outputs": [
    {
     "name": "stdout",
     "output_type": "stream",
     "text": [
      "<re.Match object; span=(18, 24), match='?*+?*+'>\n"
     ]
    }
   ],
   "source": [
    "regex = re.compile(r'(\\?\\*\\+)+')\n",
    "print(regex.search(\"This sentence has ?*+?*+\"))\n"
   ]
  },
  {
   "cell_type": "markdown",
   "metadata": {},
   "source": [
    "## exactly {n}"
   ]
  },
  {
   "cell_type": "code",
   "execution_count": 51,
   "metadata": {},
   "outputs": [
    {
     "name": "stdout",
     "output_type": "stream",
     "text": [
      "<re.Match object; span=(10, 16), match='HAHAHA'>\n"
     ]
    }
   ],
   "source": [
    "haRegex = re.compile(r'(HA){3}')\n",
    "print(haRegex.search('He said, \"HAHAHA\"'))"
   ]
  },
  {
   "cell_type": "markdown",
   "metadata": {},
   "source": [
    "## range of repetition (low, high)"
   ]
  },
  {
   "cell_type": "code",
   "execution_count": 56,
   "metadata": {},
   "outputs": [
    {
     "name": "stdout",
     "output_type": "stream",
     "text": [
      "<re.Match object; span=(8, 16), match='HaHaHaHa'>\n"
     ]
    }
   ],
   "source": [
    "haRegex = re.compile(r'(Ha){3,5}') # 3<= occurrence of Ha <= 5\n",
    "print(haRegex.search(\"He said HaHaHaHa\"))"
   ]
  },
  {
   "cell_type": "markdown",
   "metadata": {},
   "source": [
    "# greedy match\n",
    "By default regex does greedy match"
   ]
  },
  {
   "cell_type": "code",
   "execution_count": 57,
   "metadata": {},
   "outputs": [
    {
     "name": "stdout",
     "output_type": "stream",
     "text": [
      "<re.Match object; span=(0, 5), match='12345'>\n"
     ]
    }
   ],
   "source": [
    "digitRegex = re.compile(r'(\\d){3,5}')\n",
    "print(digitRegex.search('1234567890')) \n",
    "# matches with 12345 the largest possible string \n",
    "# but it is ambiguous to detect which portion to match\n",
    "# regex matches greedely\n"
   ]
  },
  {
   "cell_type": "code",
   "execution_count": 60,
   "metadata": {},
   "outputs": [
    {
     "name": "stdout",
     "output_type": "stream",
     "text": [
      "<re.Match object; span=(0, 3), match='123'>\n"
     ]
    }
   ],
   "source": [
    "digitRegex = re.compile(r'(\\d){3,5}?')\n",
    "print(digitRegex.search('1234567890')) # matches the smallest possible string"
   ]
  },
  {
   "cell_type": "markdown",
   "metadata": {},
   "source": [
    "# more about findall method"
   ]
  },
  {
   "cell_type": "code",
   "execution_count": 67,
   "metadata": {},
   "outputs": [],
   "source": [
    "phoneRegex = re.compile(r'\\d\\d\\d-\\d\\d\\d-\\d\\d\\d\\d') # attention: fewer than two groups"
   ]
  },
  {
   "cell_type": "code",
   "execution_count": 73,
   "metadata": {},
   "outputs": [],
   "source": [
    "text_to_search =  '''Canada has many three-digit area codes that you must dial depending on which province or territory you’re trying to reach. Some provinces have many different area codes because they have high populations.\n",
    "\n",
    "    Alberta: 403, 587, 825, 780, 587, 825\n",
    "    British Columbia: 604, 778, 236, 250, 778, 236\n",
    "    Manitoba: 204, 431\n",
    "    New Brunswick: 506\n",
    "    Newfoundland: 709\n",
    "    Northwest Territories: 867\n",
    "    Nova Scotia: 902\n",
    "    Nunavut: 867\n",
    "    Ontario: 905, 289, 365, 519, 226, 548, 705, 249, 613, 343 , 807, 416, 647, 437\n",
    "    Prince Edward Island: 902\n",
    "    Quebec: 418, 581, 450, 579, 514, 438 , 819, 873\n",
    "    Saskatchewan: 306, 639\n",
    "    Yukon Territory: 867\n",
    "\n",
    "For example, if calling a mobile phone from outside Canada, you would dial +61 4 and the 8-digit mobile number.\n",
    "An example of a Canadian phone number\n",
    "\n",
    "If you see: 890-444-4444, then dial +1 604-555-5555.'''"
   ]
  },
  {
   "cell_type": "code",
   "execution_count": 74,
   "metadata": {},
   "outputs": [
    {
     "name": "stdout",
     "output_type": "stream",
     "text": [
      "['890-444-4444', '604-555-5555']\n"
     ]
    }
   ],
   "source": [
    "\n",
    "phoneNumbers = phoneRegex.findall(text_to_search)\n",
    "\n",
    "print(phoneNumbers) # list of matched strings as the pattern has fewer than two groups"
   ]
  },
  {
   "cell_type": "code",
   "execution_count": 76,
   "metadata": {},
   "outputs": [
    {
     "name": "stdout",
     "output_type": "stream",
     "text": [
      "<re.Match object; span=(817, 829), match='890-444-4444'>\n"
     ]
    }
   ],
   "source": [
    "phoneNumbers = phoneRegex.search(text_to_search)\n",
    "print(phoneNumbers) # match object only the first match"
   ]
  },
  {
   "cell_type": "code",
   "execution_count": 80,
   "metadata": {},
   "outputs": [],
   "source": [
    "phoneRegex = re.compile(r'(\\d\\d\\d)-(\\d\\d\\d-\\d\\d\\d\\d)') # attention:  two groups"
   ]
  },
  {
   "cell_type": "code",
   "execution_count": 82,
   "metadata": {},
   "outputs": [
    {
     "name": "stdout",
     "output_type": "stream",
     "text": [
      "[('890', '444-4444'), ('604', '555-5555')]\n"
     ]
    }
   ],
   "source": [
    "phoneNumbers = phoneRegex.findall(text_to_search)\n",
    "\n",
    "print(phoneNumbers) # list of tuples each containing matched string groups"
   ]
  },
  {
   "cell_type": "code",
   "execution_count": 85,
   "metadata": {},
   "outputs": [],
   "source": [
    "phoneRegex = re.compile(r'((\\d\\d\\d)-(\\d\\d\\d-\\d\\d\\d\\d))') # attention:  three groups, group can overlap"
   ]
  },
  {
   "cell_type": "code",
   "execution_count": 86,
   "metadata": {},
   "outputs": [
    {
     "name": "stdout",
     "output_type": "stream",
     "text": [
      "[('890-444-4444', '890', '444-4444'), ('604-555-5555', '604', '555-5555')]\n"
     ]
    }
   ],
   "source": [
    "phoneNumbers = phoneRegex.findall(text_to_search)\n",
    "\n",
    "print(phoneNumbers) # list of tuples each containing matched string groups"
   ]
  },
  {
   "cell_type": "markdown",
   "metadata": {},
   "source": [
    "# Character class\n",
    "<img src=\"4.png\">"
   ]
  },
  {
   "cell_type": "code",
   "execution_count": 108,
   "metadata": {},
   "outputs": [
    {
     "name": "stdout",
     "output_type": "stream",
     "text": [
      "[('10 policeman', '10', 'policeman'), ('12 engineers', '12', 'engineers'), ('50 doctors', '50', 'doctors')]\n"
     ]
    }
   ],
   "source": [
    "message = '10 policeman, 12 engineers, 50 doctors were transferred from District A to District B'\n",
    "professionRegex = re.compile(r'((\\d+)\\s(\\w+))')\n",
    "print(professionRegex.findall(message))"
   ]
  },
  {
   "cell_type": "code",
   "execution_count": 90,
   "metadata": {},
   "outputs": [
    {
     "data": {
      "text/plain": [
       "['o', 'o', 'o', 'e', 'a', 'a', 'o', 'o']"
      ]
     },
     "execution_count": 90,
     "metadata": {},
     "output_type": "execute_result"
    }
   ],
   "source": [
    "vowelRegex = re.compile(r'[aeiouAEIOU]') \n",
    "vowelRegex.findall(\"Robocop eats baby food.\")"
   ]
  },
  {
   "cell_type": "code",
   "execution_count": 91,
   "metadata": {},
   "outputs": [
    {
     "data": {
      "text/plain": [
       "['ea', 'oo']"
      ]
     },
     "execution_count": 91,
     "metadata": {},
     "output_type": "execute_result"
    }
   ],
   "source": [
    "vowelRegex = re.compile(r'[aeiouAEIOU]{2}') \n",
    "vowelRegex.findall(\"Robocop eats baby food.\")"
   ]
  },
  {
   "cell_type": "code",
   "execution_count": 93,
   "metadata": {},
   "outputs": [
    {
     "data": {
      "text/plain": [
       "['R', 'b', 'c', 'p', ' ', 't', 's', ' ', 'b', 'b', 'y', ' ', 'f', 'd', '.']"
      ]
     },
     "execution_count": 93,
     "metadata": {},
     "output_type": "execute_result"
    }
   ],
   "source": [
    "vowelRegex = re.compile(r'[^aeiouAEIOU]') # any character isn't from the class, other than vowels\n",
    "vowelRegex.findall(\"Robocop eats baby food.\")"
   ]
  },
  {
   "cell_type": "markdown",
   "metadata": {},
   "source": [
    "# pattern matching at the begining and at the end"
   ]
  },
  {
   "cell_type": "code",
   "execution_count": 94,
   "metadata": {},
   "outputs": [
    {
     "data": {
      "text/plain": [
       "<re.Match object; span=(0, 5), match='Hello'>"
      ]
     },
     "execution_count": 94,
     "metadata": {},
     "output_type": "execute_result"
    }
   ],
   "source": [
    "beginsWithHelloRegex = re.compile(r'^Hello') # begins with Hello\n",
    "beginsWithHelloRegex.search(\"Hello There!\")"
   ]
  },
  {
   "cell_type": "code",
   "execution_count": 99,
   "metadata": {},
   "outputs": [
    {
     "data": {
      "text/plain": [
       "<re.Match object; span=(6, 12), match='There!'>"
      ]
     },
     "execution_count": 99,
     "metadata": {},
     "output_type": "execute_result"
    }
   ],
   "source": [
    "endsWithThereRegex = re.compile(r'There!$') # ends with There!\n",
    "endsWithThereRegex.search(\"Hello There!\")"
   ]
  },
  {
   "cell_type": "code",
   "execution_count": 102,
   "metadata": {},
   "outputs": [
    {
     "name": "stdout",
     "output_type": "stream",
     "text": [
      "<re.Match object; span=(0, 5), match='12345'>\n",
      "None\n"
     ]
    }
   ],
   "source": [
    "allDigitsRegex = re.compile(r'^\\d+$')\n",
    "print(allDigitsRegex.search(\"12345\"))\n",
    "print(allDigitsRegex.search(\"12345A\")) # not all are digits, single character at the end"
   ]
  },
  {
   "cell_type": "markdown",
   "metadata": {},
   "source": [
    "# . (dot) any single character except newline"
   ]
  },
  {
   "cell_type": "code",
   "execution_count": 105,
   "metadata": {},
   "outputs": [
    {
     "name": "stdout",
     "output_type": "stream",
     "text": [
      "['cat', 'hat', 'sat', 'lat', 'mat']\n"
     ]
    }
   ],
   "source": [
    "atRegex = re.compile(r'.at')\n",
    "mathResults = atRegex.findall(\"The cat in the hat sat on the flat mat. \")\n",
    "print(mathResults) # flat didn't match as . is a single character"
   ]
  },
  {
   "cell_type": "markdown",
   "metadata": {},
   "source": [
    "# .* any character any times\n",
    ".* is greedy always tries to match as much as possible"
   ]
  },
  {
   "cell_type": "code",
   "execution_count": 109,
   "metadata": {},
   "outputs": [
    {
     "name": "stdout",
     "output_type": "stream",
     "text": [
      "[('Farhan', 'Utshaw')]\n"
     ]
    }
   ],
   "source": [
    "nameRegex = re.compile(r'First Name: (.*) Last Name: (.*)')\n",
    "matchedNames = nameRegex.findall(\"First Name: Farhan Last Name: Utshaw\")\n",
    "print(matchedNames)"
   ]
  },
  {
   "cell_type": "code",
   "execution_count": null,
   "metadata": {},
   "outputs": [],
   "source": []
  }
 ],
 "metadata": {
  "kernelspec": {
   "display_name": "Python 3",
   "language": "python",
   "name": "python3"
  },
  "language_info": {
   "codemirror_mode": {
    "name": "ipython",
    "version": 3
   },
   "file_extension": ".py",
   "mimetype": "text/x-python",
   "name": "python",
   "nbconvert_exporter": "python",
   "pygments_lexer": "ipython3",
   "version": "3.7.6"
  }
 },
 "nbformat": 4,
 "nbformat_minor": 4
}
